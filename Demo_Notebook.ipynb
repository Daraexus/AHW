{
 "cells": [
  {
   "cell_type": "code",
   "execution_count": null,
   "metadata": {
    "collapsed": false
   },
   "outputs": [],
   "source": [
    "%matplotlib nbagg\n",
    "from astropy.io import fits\n",
    "import source_extracting\n",
    "import diff_image\n",
    "from matplotlib import animation\n",
    "import yt\n",
    "import time\n",
    "import matplotlib.pyplot as plt\n",
    "from matplotlib.backends.backend_agg import FigureCanvasAgg\n",
    "import numpy as np\n",
    "import matplotlib.animation as animation"
   ]
  },
  {
   "cell_type": "code",
   "execution_count": null,
   "metadata": {
    "collapsed": false
   },
   "outputs": [],
   "source": [
    "file = \"kic_10216186_count_movie.fits\"\n",
    "pngout = \"../VVDS22H_MOS05-05_NUV_detsources\""
   ]
  },
  {
   "cell_type": "code",
   "execution_count": null,
   "metadata": {
    "collapsed": false
   },
   "outputs": [],
   "source": [
    "diff_cube, bad_frame_mask, frame_wcs = diff_image.diff_image(file)\n",
    "print diff_cube.shape\n",
    "print bad_frame_mask\n",
    "print diff_cube[~bad_frame_mask].shape"
   ]
  },
  {
   "cell_type": "code",
   "execution_count": null,
   "metadata": {
    "collapsed": false
   },
   "outputs": [],
   "source": [
    "unique_extracted_objects = source_extracting.find_all_objects(diff_cube[~bad_frame_mask], bad_frame_mask, frame_wcs, pngout, file)\n",
    "print len(unique_extracted_objects)"
   ]
  },
  {
   "cell_type": "code",
   "execution_count": null,
   "metadata": {
    "collapsed": false,
    "scrolled": true
   },
   "outputs": [],
   "source": [
    "vmin, vmax = np.min(diff_cube), np.max(diff_cube)\n",
    "print vmin, vmax\n",
    "\n",
    "fig = plt.figure()\n",
    "\n",
    "def f(i):\n",
    "    return diff_cube[i,:,:]\n",
    "\n",
    "ims = []\n",
    "for i in range(diff_cube[~bad_frame_mask].shape[0]):\n",
    "    im = plt.imshow(f(i), vmin=vmin, vmax=vmax, cmap=plt.get_cmap('gray'))\n",
    "    ims.append([im])\n",
    "\n",
    "ani = animation.ArtistAnimation(fig, ims, interval=10, blit=True, repeat_delay=1000)\n",
    "plt.show()"
   ]
  },
  {
   "cell_type": "code",
   "execution_count": null,
   "metadata": {
    "collapsed": false
   },
   "outputs": [],
   "source": []
  },
  {
   "cell_type": "code",
   "execution_count": null,
   "metadata": {
    "collapsed": false
   },
   "outputs": [],
   "source": []
  },
  {
   "cell_type": "code",
   "execution_count": null,
   "metadata": {
    "collapsed": true
   },
   "outputs": [],
   "source": []
  }
 ],
 "metadata": {
  "kernelspec": {
   "display_name": "Python 2",
   "language": "python",
   "name": "python2"
  },
  "language_info": {
   "codemirror_mode": {
    "name": "ipython",
    "version": 2
   },
   "file_extension": ".py",
   "mimetype": "text/x-python",
   "name": "python",
   "nbconvert_exporter": "python",
   "pygments_lexer": "ipython2",
   "version": "2.7.10"
  }
 },
 "nbformat": 4,
 "nbformat_minor": 0
}

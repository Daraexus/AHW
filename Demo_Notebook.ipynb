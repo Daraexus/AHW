{
 "cells": [
  {
   "cell_type": "code",
   "execution_count": null,
   "metadata": {
    "collapsed": false
   },
   "outputs": [],
   "source": [
    "%matplotlib nbagg\n",
    "from astropy.io import fits\n",
    "import source_extracting\n",
    "import diff_image\n",
    "from matplotlib import animation\n",
    "import yt\n",
    "import time\n",
    "import matplotlib.pyplot as plt\n",
    "from matplotlib.backends.backend_agg import FigureCanvasAgg\n",
    "from matplotlib.patches import Ellipse\n",
    "import numpy as np\n",
    "import matplotlib.animation as animation"
   ]
  },
  {
   "cell_type": "code",
   "execution_count": null,
   "metadata": {
    "collapsed": false
   },
   "outputs": [],
   "source": [
    "file = \"ELAISN1_MOS15-09_NUV.fits\"\n",
    "pngout = \"../ELAISN1_MOS15-09_NUV\""
   ]
  },
  {
   "cell_type": "code",
   "execution_count": null,
   "metadata": {
    "collapsed": false
   },
   "outputs": [],
   "source": [
    "diff_cube, bad_frame_mask, frame_wcs = diff_image.diff_image(file)\n",
    "print diff_cube.shape\n",
    "print bad_frame_mask\n",
    "print diff_cube[~bad_frame_mask].shape"
   ]
  },
  {
   "cell_type": "code",
   "execution_count": null,
   "metadata": {
    "collapsed": false
   },
   "outputs": [],
   "source": [
    "unique_extracted_objects = source_extracting.find_all_objects(diff_cube[~bad_frame_mask], bad_frame_mask, frame_wcs, pngout, file)\n",
    "print len(unique_extracted_objects)\n",
    "print unique_extracted_objects[0]\n",
    "print \"x, y, a, b, theta\""
   ]
  },
  {
   "cell_type": "code",
   "execution_count": null,
   "metadata": {
    "collapsed": false,
    "scrolled": true
   },
   "outputs": [],
   "source": [
    "vmin, vmax = np.min(diff_cube), np.max(diff_cube)\n",
    "print vmin, vmax\n",
    "\n",
    "fig = plt.figure()\n",
    "\n",
    "def f(i):\n",
    "    return diff_cube[i,:,:]\n",
    "\n",
    "ims = []\n",
    "for i in range(diff_cube[~bad_frame_mask].shape[0]):\n",
    "    im = plt.imshow(f(i), vmin=vmin, vmax=vmax, cmap=plt.get_cmap('gray'))\n",
    "    for j in range(len(unique_extracted_objects)):\n",
    "        ell = Ellipse((unique_extracted_objects[j][0],unique_extracted_objects[j][1]), 2.0*unique_extracted_objects[j][2], 2.0*unique_extracted_objects[j][3], angle=np.rad2deg(unique_extracted_objects[j][4]), fill=None, edgecolor='r')\n",
    "        plt.gca().add_patch(ell)\n",
    "    ims.append([im])\n",
    "\n",
    "ani = animation.ArtistAnimation(fig, ims, interval=50, blit=True, repeat_delay=1000)\n",
    "plt.show()"
   ]
  },
  {
   "cell_type": "code",
   "execution_count": 14,
   "metadata": {
    "collapsed": false
   },
   "outputs": [
    {
     "ename": "NameError",
     "evalue": "name 'unique_extracted_objects' is not defined",
     "output_type": "error",
     "traceback": [
      "\u001b[1;31m---------------------------------------------------------------------------\u001b[0m",
      "\u001b[1;31mNameError\u001b[0m                                 Traceback (most recent call last)",
      "\u001b[1;32m<ipython-input-14-d163ff090c8c>\u001b[0m in \u001b[0;36m<module>\u001b[1;34m()\u001b[0m\n\u001b[0;32m      1\u001b[0m \u001b[1;32mimport\u001b[0m \u001b[0mplot_light_curves\u001b[0m\u001b[1;33m\u001b[0m\u001b[0m\n\u001b[0;32m      2\u001b[0m \u001b[1;33m\u001b[0m\u001b[0m\n\u001b[1;32m----> 3\u001b[1;33m \u001b[0mplot_light_curves\u001b[0m\u001b[1;33m(\u001b[0m\u001b[0mdiff_cube\u001b[0m\u001b[1;33m[\u001b[0m\u001b[1;33m~\u001b[0m\u001b[0mbad_frame_mask\u001b[0m\u001b[1;33m]\u001b[0m\u001b[1;33m,\u001b[0m \u001b[0munique_extracted_objects\u001b[0m\u001b[1;33m)\u001b[0m\u001b[1;33m\u001b[0m\u001b[0m\n\u001b[0m",
      "\u001b[1;31mNameError\u001b[0m: name 'unique_extracted_objects' is not defined"
     ]
    }
   ],
   "source": []
  },
  {
   "cell_type": "code",
   "execution_count": null,
   "metadata": {
    "collapsed": true
   },
   "outputs": [],
   "source": []
  }
 ],
 "metadata": {
  "kernelspec": {
   "display_name": "Python 2",
   "language": "python",
   "name": "python2"
  },
  "language_info": {
   "codemirror_mode": {
    "name": "ipython",
    "version": 2
   },
   "file_extension": ".py",
   "mimetype": "text/x-python",
   "name": "python",
   "nbconvert_exporter": "python",
   "pygments_lexer": "ipython2",
   "version": "2.7.10"
  }
 },
 "nbformat": 4,
 "nbformat_minor": 0
}

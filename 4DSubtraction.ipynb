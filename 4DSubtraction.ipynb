{
 "cells": [
  {
   "cell_type": "code",
   "execution_count": 57,
   "metadata": {
    "collapsed": false
   },
   "outputs": [
    {
     "name": "stdout",
     "output_type": "stream",
     "text": [
      "[[ 4.  4.  4. ...,  7.  4.  4.]\n",
      " [ 4.  5.  5. ...,  2.  5.  5.]\n",
      " [ 5.  5.  5. ...,  7.  5.  4.]\n",
      " ..., \n",
      " [ 4.  6.  5. ...,  5.  5.  3.]\n",
      " [ 5.  3.  5. ...,  9.  6.  7.]\n",
      " [ 5.  4.  5. ...,  5.  4.  3.]]\n"
     ]
    }
   ],
   "source": [
    "from astropy.io import fits\n",
    "import numpy as np\n",
    "import math\n",
    "\n",
    "hdulist = fits.open(\"ELAISN1_MOS15-09_NUV.fits\")\n",
    "\n",
    "tbdata = hdulist[0].data\n",
    "\n",
    "inMax = np.zeros(tbdata[0].shape)\n",
    "inMin = np.empty(tbdata[0].shape)\n",
    "inMin.fill(float('inf'))\n",
    "\n",
    "avMatrix = np.zeros(tbdata[0].shape)\n",
    "\n",
    "\n",
    "\n",
    "for i in range(0, len(tbdata)):\n",
    "    if tbdata[i].sum() > 20000 and tbdata[i].sum() < 23000:\n",
    "        inMax = np.maximum(inMax, tbdata[i])\n",
    "        inMin = np.minimum(inMin, tbdata[i])\n",
    "   \n",
    "    \n",
    "\n",
    "endMatrix = inMax - inMin\n",
    "\n",
    "hdulist[0].data = endMatrix\n",
    "\n",
    "#newList = fits.BinTableHDU(tbdata)\n",
    "hdulist.writeto(\"test5.fits\")"
   ]
  },
  {
   "cell_type": "code",
   "execution_count": null,
   "metadata": {
    "collapsed": true
   },
   "outputs": [],
   "source": []
  },
  {
   "cell_type": "code",
   "execution_count": null,
   "metadata": {
    "collapsed": true
   },
   "outputs": [],
   "source": []
  }
 ],
 "metadata": {
  "kernelspec": {
   "display_name": "Python 2",
   "language": "python",
   "name": "python2"
  },
  "language_info": {
   "codemirror_mode": {
    "name": "ipython",
    "version": 2
   },
   "file_extension": ".py",
   "mimetype": "text/x-python",
   "name": "python",
   "nbconvert_exporter": "python",
   "pygments_lexer": "ipython2",
   "version": "2.7.10"
  }
 },
 "nbformat": 4,
 "nbformat_minor": 0
}

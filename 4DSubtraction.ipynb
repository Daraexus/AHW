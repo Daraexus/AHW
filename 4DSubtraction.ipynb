{
 "cells": [
  {
   "cell_type": "code",
   "execution_count": 1,
   "metadata": {
    "collapsed": false
   },
   "outputs": [
    {
     "ename": "ImportError",
     "evalue": "cannot import name matplotlib",
     "output_type": "error",
     "traceback": [
      "\u001b[1;31m---------------------------------------------------------------------------\u001b[0m",
      "\u001b[1;31mImportError\u001b[0m                               Traceback (most recent call last)",
      "\u001b[1;32m<ipython-input-1-3c45fd20674a>\u001b[0m in \u001b[0;36m<module>\u001b[1;34m()\u001b[0m\n\u001b[0;32m      3\u001b[0m \u001b[1;32mimport\u001b[0m \u001b[0mmath\u001b[0m\u001b[1;33m\u001b[0m\u001b[0m\n\u001b[0;32m      4\u001b[0m \u001b[1;32mimport\u001b[0m \u001b[0mmatplotlib\u001b[0m\u001b[1;33m.\u001b[0m\u001b[0mpyplot\u001b[0m \u001b[1;32mas\u001b[0m \u001b[0mplt\u001b[0m\u001b[1;33m\u001b[0m\u001b[0m\n\u001b[1;32m----> 5\u001b[1;33m \u001b[1;32mfrom\u001b[0m \u001b[0mmatplotlib\u001b[0m \u001b[1;32mimport\u001b[0m \u001b[0mmatplotlib\u001b[0m\u001b[1;33m\u001b[0m\u001b[0m\n\u001b[0m\u001b[0;32m      6\u001b[0m \u001b[0mget_ipython\u001b[0m\u001b[1;33m(\u001b[0m\u001b[1;33m)\u001b[0m\u001b[1;33m.\u001b[0m\u001b[0mmagic\u001b[0m\u001b[1;33m(\u001b[0m\u001b[1;34mu'matplotlib inline'\u001b[0m\u001b[1;33m)\u001b[0m\u001b[1;33m\u001b[0m\u001b[0m\n\u001b[0;32m      7\u001b[0m \u001b[1;33m\u001b[0m\u001b[0m\n",
      "\u001b[1;31mImportError\u001b[0m: cannot import name matplotlib"
     ]
    }
   ],
   "source": [
    "from astropy.io import fits\n",
    "import numpy as np\n",
    "import math\n",
    "import matplotlib.pyplot as plt\n",
    "from matplotlib import matplotlib\n",
    "%matplotlib inline\n",
    "\n",
    "\n",
    "fitFile = \"../ELAISN1_MOS15-09_NUV.fits\"\n",
    "hdulist = fits.open(fitFile)\n",
    "\n",
    "tbdata = hdulist[0].data\n",
    "\n",
    "inMax = np.zeros(tbdata[0].shape)\n",
    "inMin = np.empty(tbdata[0].shape)\n",
    "inMin.fill(float('inf'))\n",
    "\n",
    "avMatrix = np.zeros(tbdata[0].shape)\n",
    "\n",
    "\n",
    "\n",
    "for i in range(0, len(tbdata)):\n",
    "    if tbdata[i].sum() > 20000 and tbdata[i].sum() < 23000:\n",
    "        inMax = np.maximum(inMax, tbdata[i])\n",
    "        inMin = np.minimum(inMin, tbdata[i])\n",
    "   \n",
    "    \n",
    "\n",
    "endMatrix = inMax - inMin\n",
    "\n",
    "hdulist[0].data = endMatrix\n",
    "\n",
    "#newList = fits.BinTableHDU(tbdata)\n",
    "#hdulist.writeto(\"test5.fits\")"
   ]
  },
  {
   "cell_type": "code",
   "execution_count": 2,
   "metadata": {
    "collapsed": false
   },
   "outputs": [
    {
     "ename": "NameError",
     "evalue": "name 'fitFile' is not defined",
     "output_type": "error",
     "traceback": [
      "\u001b[1;31m---------------------------------------------------------------------------\u001b[0m",
      "\u001b[1;31mNameError\u001b[0m                                 Traceback (most recent call last)",
      "\u001b[1;32m<ipython-input-2-e7bcd43b0455>\u001b[0m in \u001b[0;36m<module>\u001b[1;34m()\u001b[0m\n\u001b[0;32m      1\u001b[0m \u001b[1;32mfrom\u001b[0m \u001b[0mphotutils\u001b[0m \u001b[1;32mimport\u001b[0m \u001b[0mCircularAperture\u001b[0m\u001b[1;33m\u001b[0m\u001b[0m\n\u001b[1;32m----> 2\u001b[1;33m \u001b[0mimage_data\u001b[0m \u001b[1;33m=\u001b[0m \u001b[0mfits\u001b[0m\u001b[1;33m.\u001b[0m\u001b[0mgetdata\u001b[0m\u001b[1;33m(\u001b[0m\u001b[0mfitFile\u001b[0m\u001b[1;33m)\u001b[0m\u001b[1;33m\u001b[0m\u001b[0m\n\u001b[0m\u001b[0;32m      3\u001b[0m \u001b[1;32mprint\u001b[0m \u001b[0mimage_data\u001b[0m\u001b[1;33m.\u001b[0m\u001b[0mshape\u001b[0m\u001b[1;33m\u001b[0m\u001b[0m\n\u001b[0;32m      4\u001b[0m \u001b[1;33m\u001b[0m\u001b[0m\n\u001b[0;32m      5\u001b[0m \u001b[0mplt\u001b[0m\u001b[1;33m.\u001b[0m\u001b[0mfigure\u001b[0m\u001b[1;33m(\u001b[0m\u001b[1;36m1\u001b[0m\u001b[1;33m,\u001b[0m \u001b[0mfigsize\u001b[0m\u001b[1;33m=\u001b[0m\u001b[1;33m(\u001b[0m\u001b[1;36m10\u001b[0m\u001b[1;33m,\u001b[0m \u001b[1;36m12\u001b[0m\u001b[1;33m)\u001b[0m\u001b[1;33m)\u001b[0m\u001b[1;33m\u001b[0m\u001b[0m\n",
      "\u001b[1;31mNameError\u001b[0m: name 'fitFile' is not defined"
     ]
    }
   ],
   "source": [
    "from photutils import CircularAperture\n",
    "image_data = fits.getdata(fitFile)\n",
    "print image_data.shape\n",
    "\n",
    "plt.figure(1, figsize=(10, 12))\n",
    "\n",
    "plt.imshow(tbdata[1], cmap='gray', vmin=1, vmax=12)\n",
    "plt.colorbar()\n",
    "\n",
    "positions = ([9], [32])\n",
    "apertures = CircularAperture(positions, r=5.)\n",
    "apertures.plot(color='yellow', lw=2.5, alpha=0.5)\n",
    "\n",
    "plt.figure(2, figsize=(10, 12))\n",
    "\n",
    "plt.imshow(tbdata[2], cmap='gray', vmin=1, vmax=12)\n",
    "plt.colorbar()\n",
    "\n",
    "positions = ([9], [32])\n",
    "apertures = CircularAperture(positions, r=5.)\n",
    "apertures.plot(color='yellow', lw=2.5, alpha=0.5)\n",
    "\n",
    "\n",
    "plottedImage1 = tbdata[1]\n",
    "plottedImage2 = tbdata[3]\n",
    "\n"
   ]
  },
  {
   "cell_type": "code",
   "execution_count": 3,
   "metadata": {
    "collapsed": false
   },
   "outputs": [
    {
     "ename": "NameError",
     "evalue": "name 'plottedImage1' is not defined",
     "output_type": "error",
     "traceback": [
      "\u001b[1;31m---------------------------------------------------------------------------\u001b[0m",
      "\u001b[1;31mNameError\u001b[0m                                 Traceback (most recent call last)",
      "\u001b[1;32m<ipython-input-3-d9abc0dece5e>\u001b[0m in \u001b[0;36m<module>\u001b[1;34m()\u001b[0m\n\u001b[0;32m      2\u001b[0m \u001b[1;33m\u001b[0m\u001b[0m\n\u001b[0;32m      3\u001b[0m \u001b[0mY1\u001b[0m \u001b[1;33m=\u001b[0m \u001b[0mnp\u001b[0m\u001b[1;33m.\u001b[0m\u001b[0marange\u001b[0m\u001b[1;33m(\u001b[0m\u001b[1;36m100\u001b[0m\u001b[1;33m)\u001b[0m\u001b[1;33m.\u001b[0m\u001b[0mreshape\u001b[0m\u001b[1;33m(\u001b[0m\u001b[1;36m10\u001b[0m\u001b[1;33m,\u001b[0m \u001b[1;36m10\u001b[0m\u001b[1;33m)\u001b[0m\u001b[1;33m\u001b[0m\u001b[0m\n\u001b[1;32m----> 4\u001b[1;33m \u001b[0mY1\u001b[0m \u001b[1;33m=\u001b[0m \u001b[0mplottedImage1\u001b[0m\u001b[1;33m[\u001b[0m\u001b[1;36m25\u001b[0m\u001b[1;33m:\u001b[0m\u001b[1;36m40\u001b[0m\u001b[1;33m,\u001b[0m\u001b[1;36m3\u001b[0m\u001b[1;33m:\u001b[0m\u001b[1;36m15\u001b[0m\u001b[1;33m]\u001b[0m\u001b[1;33m\u001b[0m\u001b[0m\n\u001b[0m\u001b[0;32m      5\u001b[0m \u001b[1;33m\u001b[0m\u001b[0m\n\u001b[0;32m      6\u001b[0m \u001b[0mplt\u001b[0m\u001b[1;33m.\u001b[0m\u001b[0mfigure\u001b[0m\u001b[1;33m(\u001b[0m\u001b[1;36m1\u001b[0m\u001b[1;33m)\u001b[0m\u001b[1;33m\u001b[0m\u001b[0m\n",
      "\u001b[1;31mNameError\u001b[0m: name 'plottedImage1' is not defined"
     ]
    }
   ],
   "source": [
    "np.set_printoptions(threshold='nan')\n",
    "\n",
    "Y1 = np.arange(100).reshape(10, 10)\n",
    "Y1 = plottedImage1[25:40,3:15]\n",
    "\n",
    "plt.figure(1)\n",
    "plt.figure(figsize=(4, 5))\n",
    "plt.imshow(Y1, cmap='gray', vmin=0, vmax=20)\n",
    "plt.colorbar()\n",
    "\n",
    "Y2 = np.arange(100).reshape(10, 10)\n",
    "Y2 = plottedImage2[25:40,3:15]\n",
    "\n",
    "plt.figure(1)\n",
    "plt.figure(figsize=(4, 5))\n",
    "plt.imshow(Y2, cmap='gray', vmin=0, vmax=20)\n",
    "plt.colorbar()\n"
   ]
  },
  {
   "cell_type": "code",
   "execution_count": 4,
   "metadata": {
    "collapsed": false
   },
   "outputs": [
    {
     "ename": "NameError",
     "evalue": "name 'Y' is not defined",
     "output_type": "error",
     "traceback": [
      "\u001b[1;31m---------------------------------------------------------------------------\u001b[0m",
      "\u001b[1;31mNameError\u001b[0m                                 Traceback (most recent call last)",
      "\u001b[1;32m<ipython-input-4-473bcca8b0ea>\u001b[0m in \u001b[0;36m<module>\u001b[1;34m()\u001b[0m\n\u001b[0;32m      9\u001b[0m     \u001b[1;31m# Ignore model linearity warning from the fitter\u001b[0m\u001b[1;33m\u001b[0m\u001b[1;33m\u001b[0m\u001b[0m\n\u001b[0;32m     10\u001b[0m \u001b[0mx\u001b[0m\u001b[1;33m,\u001b[0m \u001b[0my\u001b[0m \u001b[1;33m=\u001b[0m \u001b[0mnp\u001b[0m\u001b[1;33m.\u001b[0m\u001b[0mmgrid\u001b[0m\u001b[1;33m[\u001b[0m\u001b[1;33m:\u001b[0m\u001b[1;36m15\u001b[0m\u001b[1;33m,\u001b[0m \u001b[1;33m:\u001b[0m\u001b[1;36m12\u001b[0m\u001b[1;33m]\u001b[0m\u001b[1;33m\u001b[0m\u001b[0m\n\u001b[1;32m---> 11\u001b[1;33m \u001b[1;32mprint\u001b[0m \u001b[0mY\u001b[0m\u001b[1;33m.\u001b[0m\u001b[0mshape\u001b[0m\u001b[1;33m\u001b[0m\u001b[0m\n\u001b[0m\u001b[0;32m     12\u001b[0m \u001b[1;33m\u001b[0m\u001b[0m\n\u001b[0;32m     13\u001b[0m \u001b[0mp1\u001b[0m \u001b[1;33m=\u001b[0m \u001b[0mfit_p\u001b[0m\u001b[1;33m(\u001b[0m\u001b[0mp_init\u001b[0m\u001b[1;33m,\u001b[0m \u001b[0mx\u001b[0m\u001b[1;33m,\u001b[0m \u001b[0my\u001b[0m\u001b[1;33m,\u001b[0m \u001b[0mY1\u001b[0m\u001b[1;33m)\u001b[0m\u001b[1;33m\u001b[0m\u001b[0m\n",
      "\u001b[1;31mNameError\u001b[0m: name 'Y' is not defined"
     ]
    }
   ],
   "source": [
    "from astropy.modeling import models, fitting\n",
    "from photutils import GaussianPSF\n",
    "\n",
    "#Fit the data using astropy.modeling\n",
    "p_init = models.Gaussian2D(x_stddev=5, y_stddev=5)\n",
    "fit_p = fitting.LevMarLSQFitter()\n",
    "\n",
    "\n",
    "    # Ignore model linearity warning from the fitter\n",
    "x, y = np.mgrid[:15, :12]\n",
    "print Y.shape\n",
    "    \n",
    "p1 = fit_p(p_init, x, y, Y1)\n",
    "p2 = fit_p(p_init, x, y, Y2)\n",
    "\n",
    "plt.figure(1)\n",
    "Z1 = p1(x, y)\n",
    "plt.imshow(Z1, cmap='gray', interpolation='nearest', vmin=0, vmax=20)\n",
    "plt.title(\"Model\")\n",
    "\n",
    "plt.figure(2)\n",
    "Z2 = p2(x, y)\n",
    "plt.imshow(Z2, cmap='gray', interpolation='nearest', vmin=0, vmax=20)\n",
    "plt.title(\"Model\")"
   ]
  },
  {
   "cell_type": "code",
   "execution_count": 206,
   "metadata": {
    "collapsed": false
   },
   "outputs": [
    {
     "data": {
      "text/plain": [
       "<matplotlib.text.Text at 0x7fcf90ca1390>"
      ]
     },
     "execution_count": 206,
     "metadata": {},
     "output_type": "execute_result"
    },
    {
     "data": {
      "image/png": "[encoded data removed]",
      "text/plain": [
       "<matplotlib.figure.Figure at 0x7fcf8f4df3d0>"
      ]
     },
     "metadata": {},
     "output_type": "display_data"
    },
    {
     "data": {
      "image/png": "[encoded data removed]",
      "text/plain": [
       "<matplotlib.figure.Figure at 0x7fcf9093d310>"
      ]
     },
     "metadata": {},
     "output_type": "display_data"
    }
   ],
   "source": [
    "from scipy.optimize import curve_fit\n",
    "\n",
    "\n",
    "\n",
    "k = np.linalg.lstsq(Z1, Z2)[0]\n",
    "\n",
    "plt.figure(1)\n",
    "plt.imshow(Z1*k[0]+k[1], cmap='gray', vmin=0, vmax=20)\n",
    "plt.title(\"Model\")\n",
    "\n",
    "plt.figure(2)\n",
    "plt.imshow(Z2, cmap='gray', interpolation='nearest', vmin=0, vmax=20)\n",
    "plt.title(\"Model\")"
   ]
  },
  {
   "cell_type": "code",
   "execution_count": null,
   "metadata": {
    "collapsed": true
   },
   "outputs": [],
   "source": []
  }
 ],
 "metadata": {
  "kernelspec": {
   "display_name": "Python 2",
   "language": "python",
   "name": "python2"
  },
  "language_info": {
   "codemirror_mode": {
    "name": "ipython",
    "version": 2
   },
   "file_extension": ".py",
   "mimetype": "text/x-python",
   "name": "python",
   "nbconvert_exporter": "python",
   "pygments_lexer": "ipython2",
   "version": "2.7.10"
  }
 },
 "nbformat": 4,
 "nbformat_minor": 0
}
